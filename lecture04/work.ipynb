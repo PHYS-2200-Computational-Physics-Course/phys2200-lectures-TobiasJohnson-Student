{
 "cells": [
  {
   "cell_type": "code",
   "execution_count": null,
   "id": "134d85ae-dae6-4d04-8600-a76fbcf56ff7",
   "metadata": {},
   "outputs": [],
   "source": [
    "] add DelimitedFiles"
   ]
  },
  {
   "cell_type": "code",
   "execution_count": null,
   "id": "d3fd70df-e142-443c-964f-b345042bf913",
   "metadata": {},
   "outputs": [],
   "source": [
    "using DelimitedFiles"
   ]
  },
  {
   "cell_type": "code",
   "execution_count": null,
   "id": "d0bb2125-e90b-47fc-a670-e4a39289d977",
   "metadata": {},
   "outputs": [],
   "source": [
    "url = \"https://www.phys.uconn.edu/~rozman/Courses/P2200_25F/downloads/trinity-test.data\""
   ]
  },
  {
   "cell_type": "code",
   "execution_count": null,
   "id": "bc32e830-1f90-478f-a4cc-7395bfd14bc6",
   "metadata": {},
   "outputs": [],
   "source": [
    "observations = download(url)"
   ]
  },
  {
   "cell_type": "code",
   "execution_count": null,
   "id": "c1bf1eb4-d304-4a37-b7a3-74c06ada5751",
   "metadata": {},
   "outputs": [],
   "source": [
    "dat = readdlm(observations, comments=true, comment_char='#')"
   ]
  },
  {
   "cell_type": "code",
   "execution_count": null,
   "id": "4f38553e-ef94-464f-afdd-2737f4ce8040",
   "metadata": {},
   "outputs": [],
   "source": [
    "\n",
    "time = dat[:, 1]\n",
    "radius = dat[:, 2]"
   ]
  },
  {
   "cell_type": "code",
   "execution_count": null,
   "id": "d255d642-441e-407d-a5b6-8d0eb5b74791",
   "metadata": {},
   "outputs": [],
   "source": [
    "\n",
    "using PyPlot\n",
    "\n",
    "plot(time, radius)\n",
    "xlabel(\"Time (ms)\")\n",
    "ylabel(\"Radius (m)\")"
   ]
  },
  {
   "cell_type": "code",
   "execution_count": null,
   "id": "15a3e8be-7e3d-4457-b38b-f5eaeff53cd7",
   "metadata": {},
   "outputs": [],
   "source": [
    "\n",
    "loglog(time, radius, \"mo\")\n",
    "grid(true)\n",
    "xlabel(\"time\")\n",
    "ylabel(\"radius\")"
   ]
  },
  {
   "cell_type": "code",
   "execution_count": null,
   "id": "17821043-f514-4b60-a3bf-84b5783b274f",
   "metadata": {},
   "outputs": [],
   "source": [
    "n_skip = 2\n",
    "n_data = length(time) - n_skip\n",
    "tlogbar = sum(log.(time[(n_skip + 1):end])) / n_data"
   ]
  },
  {
   "cell_type": "code",
   "execution_count": null,
   "id": "a250210d-f038-42c5-bc0e-e301cf6489af",
   "metadata": {},
   "outputs": [],
   "source": [
    "rlogbar = sum(log.(radius[(n_skip + 1):end])) / n_data"
   ]
  },
  {
   "cell_type": "code",
   "execution_count": null,
   "id": "fac8c0ac-e70f-4014-b639-7739518e0e4c",
   "metadata": {},
   "outputs": [],
   "source": [
    "alphalogbar = rlogbar - 2/5*tlogbar"
   ]
  },
  {
   "cell_type": "code",
   "execution_count": null,
   "id": "f39bee09-66de-4a33-bc99-309db5eb7de1",
   "metadata": {},
   "outputs": [],
   "source": [
    "const density_air = 1.2\n",
    "const microseconds = 1e-6\n",
    "energy_joules = density_air * exp(5alphalogbar) / microseconds\n",
    "\"E = $(round(energy_joules, sigdigits=4)) J\""
   ]
  },
  {
   "cell_type": "code",
   "execution_count": null,
   "id": "5ececae9-8c15-47d1-a7d6-c940bf703348",
   "metadata": {},
   "outputs": [],
   "source": [
    "const tnt = 4.184e12\n",
    "energy_tnt = energy_joules / tnt\n",
    "\"E = $(round(energy_tnt, sigdigits=4)) Kilotons TNT\""
   ]
  }
 ],
 "metadata": {
  "kernelspec": {
   "display_name": "Julia 1.11.6",
   "language": "julia",
   "name": "julia-1.11"
  },
  "language_info": {
   "file_extension": ".jl",
   "mimetype": "application/julia",
   "name": "julia",
   "version": "1.11.6"
  }
 },
 "nbformat": 4,
 "nbformat_minor": 5
}
