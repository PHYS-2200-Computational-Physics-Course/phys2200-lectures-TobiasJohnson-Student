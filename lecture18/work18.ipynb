{
 "cells": [
  {
   "cell_type": "markdown",
   "id": "59fafeba-f2ff-403e-b261-186ef5ab1262",
   "metadata": {},
   "source": [
    "\n",
    "## White dwarfs"
   ]
  },
  {
   "cell_type": "code",
   "execution_count": null,
   "id": "71bb5e31-dd3e-4cde-8ff6-4a9c20c82e39",
   "metadata": {},
   "outputs": [],
   "source": [
    "\n",
    "url = \"https://cdsarc.u-strasbg.fr/viz-bin/asu-tsv?-source=J/A+A/420/507/tablea1&-out=Mass&-out=Rad\""
   ]
  },
  {
   "cell_type": "code",
   "execution_count": null,
   "id": "445ff36f-d2fd-4796-a28d-3f9d8bc4f420",
   "metadata": {},
   "outputs": [],
   "source": [
    "\n",
    "catalog = download(url)"
   ]
  },
  {
   "cell_type": "code",
   "execution_count": null,
   "id": "e086817c-2c16-4cda-81af-8e1454ed09ee",
   "metadata": {},
   "outputs": [],
   "source": [
    "\n",
    "using CSV\n",
    "using DataFrames"
   ]
  },
  {
   "cell_type": "code",
   "execution_count": null,
   "id": "432080d1-ef73-4d01-a71e-e42ab7e6983f",
   "metadata": {},
   "outputs": [],
   "source": [
    "\n",
    "df = CSV.read(catalog, DataFrame, comment=\"#\", skipto=4, types=[Float64, Float64],\n",
    "    delim='\\t', ignorerepeated=true, silencewarnings=true);"
   ]
  },
  {
   "cell_type": "code",
   "execution_count": null,
   "id": "9018196f-c54c-44e0-9769-be781c072190",
   "metadata": {},
   "outputs": [],
   "source": [
    "\n",
    "dropmissing!(df)"
   ]
  },
  {
   "cell_type": "code",
   "execution_count": null,
   "id": "1121858e-bd28-486f-95dd-9aaf29fa518b",
   "metadata": {},
   "outputs": [],
   "source": [
    "\n",
    "using PyPlot"
   ]
  },
  {
   "cell_type": "code",
   "execution_count": null,
   "id": "68764ca8-763b-4f33-938d-b56280d8a2a0",
   "metadata": {},
   "outputs": [],
   "source": [
    "\n",
    "plot(df.Mass, df.Rad, marker=\"o\", linestyle=\"none\",\n",
    "    fillstyle=\"none\", markersize=4, label=\"observations\")\n",
    "title(\"Radius vs. Mass for White Dwarfs\")\n",
    "xlabel(\"Mass (Solar Masses)\")\n",
    "ylabel(\"Radius (Solar Radii)\")\n",
    "grid(true)"
   ]
  },
  {
   "cell_type": "code",
   "execution_count": null,
   "id": "d16e4ddf-19ad-4782-bca2-c012c9ac08e5",
   "metadata": {},
   "outputs": [],
   "source": []
  }
 ],
 "metadata": {
  "kernelspec": {
   "display_name": "Julia 1.11.6",
   "language": "julia",
   "name": "julia-1.11"
  },
  "language_info": {
   "file_extension": ".jl",
   "mimetype": "application/julia",
   "name": "julia",
   "version": "1.11.6"
  }
 },
 "nbformat": 4,
 "nbformat_minor": 5
}
